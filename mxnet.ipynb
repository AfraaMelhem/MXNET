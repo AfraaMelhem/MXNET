{
 "cells": [
  {
   "cell_type": "code",
   "execution_count": 19,
   "metadata": {},
   "outputs": [],
   "source": [
    "import pandas as pd\n",
    "import numpy as np\n",
    "from tensorflow.keras.preprocessing.text import Tokenizer\n",
    "from tensorflow.keras.preprocessing.sequence import pad_sequences\n",
    "from sklearn.model_selection import train_test_split\n",
    "from sklearn.preprocessing import OneHotEncoder"
   ]
  },
  {
   "cell_type": "code",
   "execution_count": 20,
   "metadata": {},
   "outputs": [],
   "source": [
    "data = pd.read_csv('data_good_sentiment_final.csv',names=['text',\"label\"])"
   ]
  },
  {
   "cell_type": "code",
   "execution_count": 21,
   "metadata": {},
   "outputs": [],
   "source": [
    "x_train,x_test,y_train, y_test= train_test_split(data['text'],data['label'],test_size=0.2, random_state=42)"
   ]
  },
  {
   "cell_type": "code",
   "execution_count": 22,
   "metadata": {},
   "outputs": [],
   "source": [
    "tokenizer = Tokenizer(num_words=5000,lower=True)\n",
    "tokenizer.fit_on_texts(x_train)\n",
    "tokenizer.fit_on_texts(x_test)\n",
    "word_index = tokenizer.word_index"
   ]
  },
  {
   "cell_type": "code",
   "execution_count": 23,
   "metadata": {},
   "outputs": [],
   "source": [
    "X_train_tokenizer = pad_sequences(tokenizer.texts_to_sequences(x_train),maxlen=250)\n",
    "X_test_tokenizer =  pad_sequences(tokenizer.texts_to_sequences(x_test),maxlen=250)"
   ]
  },
  {
   "cell_type": "code",
   "execution_count": 24,
   "metadata": {},
   "outputs": [],
   "source": [
    "enc = OneHotEncoder()\n",
    "Y_train_Labels = enc.fit_transform(y_train.values.reshape(-1, 1)).toarray()\n",
    "Y_test_Labels = enc.transform(y_test.values.reshape(-1, 1)).toarray()"
   ]
  },
  {
   "cell_type": "code",
   "execution_count": 25,
   "metadata": {},
   "outputs": [],
   "source": [
    "import mxnet as mx\n",
    "from mxnet import gluon, autograd,nd\n",
    "from mxnet.gluon import nn"
   ]
  },
  {
   "cell_type": "code",
   "execution_count": 26,
   "metadata": {},
   "outputs": [
    {
     "data": {
      "text/plain": [
       "numpy.ndarray"
      ]
     },
     "execution_count": 26,
     "metadata": {},
     "output_type": "execute_result"
    }
   ],
   "source": [
    "type(X_train_tokenizer)"
   ]
  },
  {
   "cell_type": "code",
   "execution_count": 27,
   "metadata": {},
   "outputs": [
    {
     "data": {
      "text/plain": [
       "numpy.ndarray"
      ]
     },
     "execution_count": 27,
     "metadata": {},
     "output_type": "execute_result"
    }
   ],
   "source": [
    "type(Y_train_Labels)"
   ]
  },
  {
   "cell_type": "code",
   "execution_count": 28,
   "metadata": {},
   "outputs": [],
   "source": [
    "x_train=mx.nd.array(X_train_tokenizer)\n",
    "x_test=mx.nd.array(X_test_tokenizer)\n",
    "y_train=mx.nd.array(Y_train_Labels)\n",
    "y_test=mx.nd.array(Y_test_Labels)"
   ]
  },
  {
   "cell_type": "code",
   "execution_count": 29,
   "metadata": {},
   "outputs": [],
   "source": [
    "# from keras.utils import to_categorical\n",
    "# y_train = to_categorical(y_train)\n",
    "# y_test = to_categorical(y_test)"
   ]
  },
  {
   "cell_type": "code",
   "execution_count": 30,
   "metadata": {},
   "outputs": [],
   "source": [
    "\n",
    "model = mx.gluon.nn.Sequential()\n",
    "\n",
    "with model.name_scope():    \n",
    "    model.embed = mx.gluon.nn.Embedding(5000, 100)\n",
    "    model.add(mx.gluon.rnn.LSTM(100, layout = 'NTC',bidirectional=True,dropout=0.2))\n",
    "    model.add(mx.gluon.nn.Dense(100,activation='relu'))\n",
    "    model.add(mx.gluon.nn.Dense(4))"
   ]
  },
  {
   "cell_type": "code",
   "execution_count": 31,
   "metadata": {},
   "outputs": [
    {
     "data": {
      "text/plain": [
       "<bound method Block.summary of Sequential(\n",
       "  (embed): Embedding(5000 -> 100, float32)\n",
       "  (1): LSTM(None -> 100, NTC, dropout=0.2, bidirectional)\n",
       "  (2): Dense(None -> 100, Activation(relu))\n",
       "  (3): Dense(None -> 4, linear)\n",
       ")>"
      ]
     },
     "execution_count": 31,
     "metadata": {},
     "output_type": "execute_result"
    }
   ],
   "source": [
    "model.summary"
   ]
  },
  {
   "cell_type": "code",
   "execution_count": 32,
   "metadata": {},
   "outputs": [],
   "source": [
    "ctx=mx.cpu(0)"
   ]
  },
  {
   "cell_type": "code",
   "execution_count": 33,
   "metadata": {},
   "outputs": [],
   "source": [
    "model.initialize(mx.init.Xavier(),ctx)"
   ]
  },
  {
   "cell_type": "code",
   "execution_count": 34,
   "metadata": {},
   "outputs": [],
   "source": [
    "trainer = gluon.Trainer(\n",
    "    params= model.collect_params(),\n",
    "    optimizer= 'adam',\n",
    "    optimizer_params={'learning_rate':1}\n",
    ")"
   ]
  },
  {
   "cell_type": "code",
   "execution_count": 35,
   "metadata": {},
   "outputs": [],
   "source": [
    "metric = mx.metric.Accuracy()\n",
    "sigmoid_binary_cross_entropy_loss = gluon.loss.SigmoidBinaryCrossEntropyLoss()"
   ]
  },
  {
   "cell_type": "code",
   "execution_count": 36,
   "metadata": {},
   "outputs": [
    {
     "name": "stdout",
     "output_type": "stream",
     "text": [
      "0.26195148290575776\n",
      "0.26220170679028604\n",
      "0.26220170679028604\n"
     ]
    }
   ],
   "source": [
    "num_epochs = 3\n",
    "for epoch in range(num_epochs):\n",
    "    for x,y in zip(x_train,y_train):\n",
    "        x=x.as_in_context(ctx)\n",
    "        # print(type(x))\n",
    "        # print(x.shape)\n",
    "        y=y.as_in_context(ctx)\n",
    "        # print(type(y))\n",
    "        # print(y.shape)\n",
    "        # print(y)\n",
    "        with autograd.record():\n",
    "            y_hat= model(x.reshape(1,-1))\n",
    "            # print(y_hat[0].shape)\n",
    "            # print(y_hat[0])\n",
    "            loss=sigmoid_binary_cross_entropy_loss(y_hat[0],y)\n",
    "        loss.backward()\n",
    "        metric.update(y_hat[0],y)\n",
    "        trainer.step(batch_size=128)\n",
    "    name,acc=metric.get()\n",
    "    print(acc)\n",
    "    metric.reset()"
   ]
  },
  {
   "cell_type": "code",
   "execution_count": null,
   "metadata": {},
   "outputs": [],
   "source": []
  }
 ],
 "metadata": {
  "interpreter": {
   "hash": "5109d816b82be14675a6b11f8e0f0d2e80f029176ed3710d54e125caa8520dfd"
  },
  "kernelspec": {
   "display_name": "Python 3.7.9 64-bit",
   "language": "python",
   "name": "python3"
  },
  "language_info": {
   "codemirror_mode": {
    "name": "ipython",
    "version": 3
   },
   "file_extension": ".py",
   "mimetype": "text/x-python",
   "name": "python",
   "nbconvert_exporter": "python",
   "pygments_lexer": "ipython3",
   "version": "3.7.9 (tags/v3.7.9:13c94747c7, Aug 17 2020, 18:58:18) [MSC v.1900 64 bit (AMD64)]"
  },
  "orig_nbformat": 4
 },
 "nbformat": 4,
 "nbformat_minor": 2
}
